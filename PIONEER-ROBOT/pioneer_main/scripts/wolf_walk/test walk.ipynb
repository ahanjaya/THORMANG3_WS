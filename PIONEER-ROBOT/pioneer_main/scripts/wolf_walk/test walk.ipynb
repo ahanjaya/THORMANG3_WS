{
 "cells": [
  {
   "cell_type": "code",
   "execution_count": 1,
   "metadata": {},
   "outputs": [],
   "source": [
    "import rospy\n",
    "from pioneer_walking.walking import Walking"
   ]
  },
  {
   "cell_type": "code",
   "execution_count": 2,
   "metadata": {},
   "outputs": [],
   "source": [
    "rospy.init_node('pioneer_walking', anonymous=False)\n",
    "walk = Walking()"
   ]
  },
  {
   "cell_type": "code",
   "execution_count": 3,
   "metadata": {},
   "outputs": [],
   "source": [
    "walk.publisher_(walk.walking_pub, \"ini_pose\", latch=True)"
   ]
  },
  {
   "cell_type": "code",
   "execution_count": 4,
   "metadata": {},
   "outputs": [],
   "source": [
    "walk.publisher_(walk.walking_pub, \"set_mode\")"
   ]
  },
  {
   "cell_type": "code",
   "execution_count": 5,
   "metadata": {},
   "outputs": [],
   "source": [
    "walk.publisher_(walk.walking_pub, \"balance_on\")"
   ]
  },
  {
   "cell_type": "code",
   "execution_count": 9,
   "metadata": {},
   "outputs": [],
   "source": [
    "walk.publisher_(walk.walking_pub, \"forward\")"
   ]
  },
  {
   "cell_type": "code",
   "execution_count": 8,
   "metadata": {},
   "outputs": [],
   "source": [
    "walk.publisher_(walk.walking_pub, \"backward\")"
   ]
  },
  {
   "cell_type": "markdown",
   "metadata": {},
   "source": [
    "### default walk param"
   ]
  },
  {
   "cell_type": "code",
   "execution_count": 14,
   "metadata": {},
   "outputs": [],
   "source": [
    "walk.set_robot_pose(0.0, -0.093, -0.63, 0.0, 0.0, 0.0,\\\n",
    "                    0.0, 0.093, -0.63, 0.0, 0.0, 0.0,\\\n",
    "                    0.0, 0.0, 0.0, 0.0, 0.0, 0.0)"
   ]
  },
  {
   "cell_type": "markdown",
   "metadata": {},
   "source": [
    "----"
   ]
  },
  {
   "cell_type": "code",
   "execution_count": 7,
   "metadata": {},
   "outputs": [
    {
     "name": "stdout",
     "output_type": "stream",
     "text": [
      "[INFO] [1574949659.339588]: [Walking]: Succeed to set balance param\n"
     ]
    }
   ],
   "source": [
    "balance_dict = {\n",
    "            \"updating_duration\"                     : 2.0*1.0,\n",
    "            \"cob_x_offset_m\"                        : -0.1, #-0.015\n",
    "            \"cob_y_offset_m\"                        : -0.00,\n",
    "            \"hip_roll_swap_angle_rad\"               : 0.00,\n",
    "            \"foot_roll_gyro_p_gain\"                 : 0.25,\n",
    "            \"foot_roll_gyro_d_gain\"                 : 0.00,\n",
    "            \"foot_pitch_gyro_p_gain\"                : 0.25,\n",
    "            \"foot_pitch_gyro_d_gain\"                : 0.00,\n",
    "            \"foot_roll_angle_p_gain\"                : 0.35,\n",
    "            \"foot_roll_angle_d_gain\"                : 0.00,\n",
    "            \"foot_pitch_angle_p_gain\"               : 0.25,\n",
    "            \"foot_pitch_angle_d_gain\"               : 0.00,\n",
    "            \"foot_x_force_p_gain\"                   : 0.025,\n",
    "            \"foot_x_force_d_gain\"                   : 0.00,\n",
    "            \"foot_y_force_p_gain\"                   : 0.025,\n",
    "            \"foot_y_force_d_gain\"                   : 0.00,\n",
    "            \"foot_z_force_p_gain\"                   : 0.001,\n",
    "            \"foot_z_force_d_gain\"                   : 0.00,\n",
    "            \"foot_roll_torque_p_gain\"               : 0.0006,\n",
    "            \"foot_roll_torque_d_gain\"               : 0.00,\n",
    "            \"foot_pitch_torque_p_gain\"              : 0.0003,\n",
    "            \"foot_pitch_torque_d_gain\"              : 0.00,\n",
    "            \"roll_gyro_cut_off_frequency\"           : 40.0,\n",
    "            \"pitch_gyro_cut_off_frequency\"          : 40.0,\n",
    "            \"roll_angle_cut_off_frequency\"          : 40.0,\n",
    "            \"pitch_angle_cut_off_frequency\"         : 40.0,\n",
    "            \"foot_x_force_cut_off_frequency\"        : 20.0,\n",
    "            \"foot_y_force_cut_off_frequency\"        : 20.0,\n",
    "            \"foot_z_force_cut_off_frequency\"        : 20.0,\n",
    "            \"foot_roll_torque_cut_off_frequency\"    : 20.0,\n",
    "            \"foot_pitch_torque_cut_off_frequency\"   : 20.0\n",
    "    }\n",
    "\n",
    "walk.set_balance_param(balance_dict)"
   ]
  },
  {
   "cell_type": "code",
   "execution_count": 4,
   "metadata": {},
   "outputs": [],
   "source": [
    "from pioneer_motion.action import Action\n",
    "action       = Action(\"Thormang3_Wolf\")"
   ]
  },
  {
   "cell_type": "code",
   "execution_count": 5,
   "metadata": {},
   "outputs": [],
   "source": [
    "action.motor.publisher_(action.motor.module_control_pub, \"none\")"
   ]
  },
  {
   "cell_type": "code",
   "execution_count": 6,
   "metadata": {},
   "outputs": [
    {
     "name": "stdout",
     "output_type": "stream",
     "text": [
      "\t Motion mandala 1\n",
      "[Action] Set velocity level: 5%\n"
     ]
    }
   ],
   "source": [
    "action.play_motion(\"mandala\")"
   ]
  },
  {
   "cell_type": "code",
   "execution_count": null,
   "metadata": {},
   "outputs": [],
   "source": []
  }
 ],
 "metadata": {
  "kernelspec": {
   "display_name": "Python 3",
   "language": "python",
   "name": "python3"
  },
  "language_info": {
   "codemirror_mode": {
    "name": "ipython",
    "version": 3
   },
   "file_extension": ".py",
   "mimetype": "text/x-python",
   "name": "python",
   "nbconvert_exporter": "python",
   "pygments_lexer": "ipython3",
   "version": "3.5.2"
  }
 },
 "nbformat": 4,
 "nbformat_minor": 2
}
