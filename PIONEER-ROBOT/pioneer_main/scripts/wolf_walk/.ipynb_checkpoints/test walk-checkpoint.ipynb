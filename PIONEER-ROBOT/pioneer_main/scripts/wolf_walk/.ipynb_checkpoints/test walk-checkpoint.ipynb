{
 "cells": [
  {
   "cell_type": "code",
   "execution_count": 1,
   "metadata": {},
   "outputs": [],
   "source": [
    "import rospy\n",
    "from pioneer_walking.walking import Walking"
   ]
  },
  {
   "cell_type": "code",
   "execution_count": 2,
   "metadata": {},
   "outputs": [],
   "source": [
    "rospy.init_node('pioneer_walking', anonymous=False)\n",
    "walk = Walking()"
   ]
  },
  {
   "cell_type": "code",
   "execution_count": 3,
   "metadata": {},
   "outputs": [],
   "source": [
    "walk.publisher_(walk.walking_pub, \"ini_pose\", latch=True)"
   ]
  },
  {
   "cell_type": "code",
   "execution_count": 17,
   "metadata": {},
   "outputs": [],
   "source": [
    "walk.publisher_(walk.walking_pub, \"set_mode\")"
   ]
  },
  {
   "cell_type": "code",
   "execution_count": 5,
   "metadata": {},
   "outputs": [],
   "source": [
    "walk.publisher_(walk.walking_pub, \"balance_on\")"
   ]
  },
  {
   "cell_type": "code",
   "execution_count": 10,
   "metadata": {},
   "outputs": [],
   "source": [
    "walk.publisher_(walk.walking_pub, \"forward\")"
   ]
  },
  {
   "cell_type": "code",
   "execution_count": 33,
   "metadata": {},
   "outputs": [],
   "source": [
    "walk.publisher_(walk.walking_pub, \"backward\")"
   ]
  },
  {
   "cell_type": "markdown",
   "metadata": {},
   "source": [
    "### default walk param"
   ]
  },
  {
   "cell_type": "code",
   "execution_count": 14,
   "metadata": {},
   "outputs": [],
   "source": [
    "walk.set_robot_pose(0.0, -0.093, -0.63, 0.0, 0.0, 0.0,\\\n",
    "                    0.0, 0.093, -0.63, 0.0, 0.0, 0.0,\\\n",
    "                    0.0, 0.0, 0.0, 0.0, 0.0, 0.0)"
   ]
  },
  {
   "cell_type": "markdown",
   "metadata": {},
   "source": [
    "----"
   ]
  },
  {
   "cell_type": "code",
   "execution_count": 12,
   "metadata": {},
   "outputs": [],
   "source": [
    "walk.set_robot_pose(0.0, -0.093, -0.55, 0.0, 0.0, 0.0,\\\n",
    "                    0.0, 0.093, -0.63, 0.0, 0.0, 0.0,\\\n",
    "                    0.0, 0.0, 0.0, 0.0, 0.0, 0.0)"
   ]
  },
  {
   "cell_type": "code",
   "execution_count": 32,
   "metadata": {},
   "outputs": [
    {
     "name": "stdout",
     "output_type": "stream",
     "text": [
      "[INFO] [1574947833.258182]: [Walking]: Succeed to set balance param\n"
     ]
    }
   ],
   "source": [
    "balance_dict = {\n",
    "            \"updating_duration\"                     : 2.0*1.0,\n",
    "            \"cob_x_offset_m\"                        : -0.1, #-0.015\n",
    "            \"cob_y_offset_m\"                        : -0.00,\n",
    "    }\n",
    "\n",
    "walk.set_balance_param(balance_dict)"
   ]
  },
  {
   "cell_type": "code",
   "execution_count": 14,
   "metadata": {},
   "outputs": [],
   "source": [
    "from pioneer_motion.action import Action\n",
    "action       = Action(\"Thormang3_Wolf\")"
   ]
  },
  {
   "cell_type": "code",
   "execution_count": 15,
   "metadata": {},
   "outputs": [],
   "source": [
    "action.motor.publisher_(action.motor.module_control_pub, \"none\")"
   ]
  },
  {
   "cell_type": "code",
   "execution_count": 16,
   "metadata": {},
   "outputs": [
    {
     "name": "stdout",
     "output_type": "stream",
     "text": [
      "\t Motion mandala 1\n",
      "[Action] Set velocity level: 5%\n"
     ]
    }
   ],
   "source": [
    "action.play_motion(\"mandala\")"
   ]
  },
  {
   "cell_type": "code",
   "execution_count": null,
   "metadata": {},
   "outputs": [],
   "source": []
  }
 ],
 "metadata": {
  "kernelspec": {
   "display_name": "Python 3",
   "language": "python",
   "name": "python3"
  },
  "language_info": {
   "codemirror_mode": {
    "name": "ipython",
    "version": 3
   },
   "file_extension": ".py",
   "mimetype": "text/x-python",
   "name": "python",
   "nbconvert_exporter": "python",
   "pygments_lexer": "ipython3",
   "version": "3.5.2"
  }
 },
 "nbformat": 4,
 "nbformat_minor": 2
}
