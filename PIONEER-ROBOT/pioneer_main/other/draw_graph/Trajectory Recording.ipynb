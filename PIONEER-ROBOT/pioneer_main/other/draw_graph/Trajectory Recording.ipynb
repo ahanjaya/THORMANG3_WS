{
 "cells": [
  {
   "cell_type": "code",
   "execution_count": 1,
   "metadata": {},
   "outputs": [],
   "source": [
    "import rospy\n",
    "from time import sleep\n",
    "from pioneer_motor.motor import Motor\n",
    "from pioneer_kinematics.kinematics import Kinematics"
   ]
  },
  {
   "cell_type": "code",
   "execution_count": 2,
   "metadata": {},
   "outputs": [
    {
     "name": "stdout",
     "output_type": "stream",
     "text": [
      "[INFO] [1574763294.095893]: [Tra] Pioneer Demo Trajectory - Running\n"
     ]
    }
   ],
   "source": [
    "rospy.init_node('pioneer_trajectory', anonymous=False)\n",
    "rospy.loginfo(\"[Tra] Pioneer Demo Trajectory - Running\")\n",
    "\n",
    "kinematics = Kinematics()\n",
    "kinematics.publisher_(kinematics.module_control_pub, \"manipulation_module\", latch=True)  # <-- Enable Manipulation mode\n",
    "kinematics.publisher_(kinematics.send_ini_pose_msg_pub, \"ini_pose\", latch=True)"
   ]
  },
  {
   "cell_type": "code",
   "execution_count": 3,
   "metadata": {},
   "outputs": [
    {
     "data": {
      "text/plain": [
       "{'pitch': 0.012657160700451258,\n",
       " 'roll': -0.016780295553163332,\n",
       " 'x': 0.39206471812036126,\n",
       " 'y': 0.26447697982861473,\n",
       " 'yaw': 0.0073159569861073115,\n",
       " 'z': 0.8322961228269651}"
      ]
     },
     "execution_count": 3,
     "metadata": {},
     "output_type": "execute_result"
    }
   ],
   "source": [
    "kinematics.get_kinematics_pose(\"left_arm\")"
   ]
  },
  {
   "cell_type": "code",
   "execution_count": 16,
   "metadata": {},
   "outputs": [],
   "source": [
    "kinematics.publisher_(kinematics.send_ini_pose_msg_pub, \"ini_pose\", latch=False)"
   ]
  },
  {
   "cell_type": "markdown",
   "metadata": {},
   "source": [
    "# Move left arm on Y Axis "
   ]
  },
  {
   "cell_type": "code",
   "execution_count": 6,
   "metadata": {},
   "outputs": [],
   "source": [
    "kinematics.set_kinematics_pose(\"left_arm\" , 2.0,  \\\n",
    "                **{ 'x': 0.40, 'y':  0.50, 'z': 0.80, 'roll': 0.00, 'pitch': 0.00, 'yaw': 0.00 })"
   ]
  },
  {
   "cell_type": "code",
   "execution_count": 7,
   "metadata": {},
   "outputs": [],
   "source": [
    "kinematics.set_kinematics_pose(\"left_arm\" , 2.0,  \\\n",
    "                **{ 'x': 0.40, 'y':  0.10, 'z': 0.80, 'roll': 0.00, 'pitch': 0.00, 'yaw': 0.00 })"
   ]
  },
  {
   "cell_type": "markdown",
   "metadata": {},
   "source": [
    "# Trajectory Sin"
   ]
  },
  {
   "cell_type": "markdown",
   "metadata": {},
   "source": [
    "## Trajectory on X axis"
   ]
  },
  {
   "cell_type": "code",
   "execution_count": 5,
   "metadata": {},
   "outputs": [],
   "source": [
    "kinematics.trajectory_sin(group=\"left_arm\",  \\\n",
    "                          x=0.40, y=0.10, z=0.80, roll=0.0, pitch=0.0, yaw=0.0, \\\n",
    "                          xc=-0.1, yc=0.0, zc=0.0, time=2, res=0.01)"
   ]
  },
  {
   "cell_type": "code",
   "execution_count": 24,
   "metadata": {},
   "outputs": [],
   "source": [
    "kinematics.trajectory_sin(group=\"left_arm\",  \\\n",
    "                          x=0.40, y=0.50, z=0.80, roll=0.0, pitch=0.0, yaw=0.0, \\\n",
    "                          xc=0.1, yc=0.0, zc=0.0, time=2, res=0.01)"
   ]
  },
  {
   "cell_type": "markdown",
   "metadata": {},
   "source": [
    "## Trajectory on Z axis"
   ]
  },
  {
   "cell_type": "code",
   "execution_count": 27,
   "metadata": {},
   "outputs": [],
   "source": [
    "kinematics.trajectory_sin(group=\"left_arm\",  \\\n",
    "                          x=0.40, y=0.10, z=0.80, roll=0.0, pitch=0.0, yaw=0.0, \\\n",
    "                          xc=0.0, yc=0.0, zc=0.1, time=2, res=0.01)"
   ]
  },
  {
   "cell_type": "code",
   "execution_count": 26,
   "metadata": {},
   "outputs": [],
   "source": [
    "kinematics.trajectory_sin(group=\"left_arm\",  \\\n",
    "                          x=0.40, y=0.50, z=0.80, roll=0.0, pitch=0.0, yaw=0.0, \\\n",
    "                          xc=0.0, yc=0.0, zc=-0.1, time=2, res=0.01)"
   ]
  },
  {
   "cell_type": "markdown",
   "metadata": {},
   "source": [
    "## Combination"
   ]
  },
  {
   "cell_type": "code",
   "execution_count": 32,
   "metadata": {},
   "outputs": [],
   "source": [
    "kinematics.set_kinematics_pose(\"left_arm\" , 2.0,  \\\n",
    "                **{ 'x': 0.40, 'y':  0.50, 'z': 0.80, 'roll': 0.00, 'pitch': 0.00, 'yaw': 0.00 })\n",
    "sleep(4)\n",
    "kinematics.set_kinematics_pose(\"left_arm\" , 2.0,  \\\n",
    "                **{ 'x': 0.40, 'y':  0.10, 'z': 0.80, 'roll': 0.00, 'pitch': 0.00, 'yaw': 0.00 })\n",
    "sleep(4)\n",
    "kinematics.set_kinematics_pose(\"left_arm\" , 2.0,  \\\n",
    "                **{ 'x': 0.40, 'y':  0.50, 'z': 0.80, 'roll': 0.00, 'pitch': 0.00, 'yaw': 0.00 })\n",
    "sleep(4)\n",
    "kinematics.trajectory_sin(group=\"left_arm\",  \\\n",
    "                          x=0.40, y=0.10, z=0.80, roll=0.0, pitch=0.0, yaw=0.0, \\\n",
    "                          xc=-0.1, yc=0.0, zc=0.0, time=2, res=0.01)\n",
    "sleep(1)\n",
    "while kinematics.left_arr == True:\n",
    "    pass\n",
    "sleep(2)\n",
    "kinematics.trajectory_sin(group=\"left_arm\",  \\\n",
    "                          x=0.40, y=0.50, z=0.80, roll=0.0, pitch=0.0, yaw=0.0, \\\n",
    "                          xc=0.1, yc=0.0, zc=0.0, time=2, res=0.01)\n",
    "\n",
    "sleep(1)\n",
    "while kinematics.left_arr == True:\n",
    "    pass\n",
    "sleep(2)\n",
    "kinematics.trajectory_sin(group=\"left_arm\",  \\\n",
    "                          x=0.40, y=0.10, z=0.80, roll=0.0, pitch=0.0, yaw=0.0, \\\n",
    "                          xc=0.0, yc=0.0, zc=-0.1, time=2, res=0.01)\n",
    "sleep(1)\n",
    "while kinematics.left_arr == True:\n",
    "    pass\n",
    "sleep(2)\n",
    "kinematics.trajectory_sin(group=\"left_arm\",  \\\n",
    "                          x=0.40, y=0.50, z=0.80, roll=0.0, pitch=0.0, yaw=0.0, \\\n",
    "                          xc=0.0, yc=0.0, zc=0.1, time=2, res=0.01)\n"
   ]
  },
  {
   "cell_type": "code",
   "execution_count": null,
   "metadata": {},
   "outputs": [],
   "source": []
  },
  {
   "cell_type": "markdown",
   "metadata": {},
   "source": [
    "## Gaussian"
   ]
  },
  {
   "cell_type": "code",
   "execution_count": 15,
   "metadata": {},
   "outputs": [],
   "source": [
    "kinematics.set_kinematics_pose(\"left_arm\" , 2.0,  \\\n",
    "                **{ 'x': 0.40, 'y':  0.50, 'z': 0.80, 'roll': 0.00, 'pitch': 0.00, 'yaw': 0.00 })\n",
    "sleep(4)\n",
    "kinematics.set_kinematics_pose(\"left_arm\" , 2.0,  \\\n",
    "                **{ 'x': 0.40, 'y':  0.10, 'z': 0.80, 'roll': 0.00, 'pitch': 0.00, 'yaw': 0.00 })\n",
    "sleep(4)\n",
    "kinematics.set_kinematics_pose(\"left_arm\" , 2.0,  \\\n",
    "                **{ 'x': 0.40, 'y':  0.50, 'z': 0.80, 'roll': 0.00, 'pitch': 0.00, 'yaw': 0.00 })\n",
    "sleep(4)\n",
    "kinematics.trajectory_gaussian(group=\"left_arm\",  \\\n",
    "                          x=0.40, y=0.10, z=0.80, roll=0.0, pitch=0.0, yaw=0.0, \\\n",
    "                          mu=0, sig=0.8, \\\n",
    "                          xc=-0.1, yc=0.0, zc=0.0, time=2, res=0.01)\n",
    "sleep(1)\n",
    "while kinematics.left_arr == True:\n",
    "    pass\n",
    "sleep(2)\n",
    "kinematics.trajectory_gaussian(group=\"left_arm\",  \\\n",
    "                          x=0.40, y=0.50, z=0.80, roll=0.0, pitch=0.0, yaw=0.0, \\\n",
    "                          mu=0, sig=0.8, \\\n",
    "                          xc=0.1, yc=0.0, zc=0.0, time=2, res=0.01)\n",
    "\n",
    "sleep(1)\n",
    "while kinematics.left_arr == True:\n",
    "    pass\n",
    "sleep(2)\n",
    "kinematics.trajectory_gaussian(group=\"left_arm\",  \\\n",
    "                          x=0.40, y=0.10, z=0.80, roll=0.0, pitch=0.0, yaw=0.0, \\\n",
    "                          mu=0, sig=0.8, \\\n",
    "                          xc=0.0, yc=0.0, zc=-0.1, time=2, res=0.01)\n",
    "sleep(1)\n",
    "while kinematics.left_arr == True:\n",
    "    pass\n",
    "sleep(2)\n",
    "kinematics.trajectory_gaussian(group=\"left_arm\",  \\\n",
    "                          x=0.40, y=0.50, z=0.80, roll=0.0, pitch=0.0, yaw=0.0, \\\n",
    "                          mu=0, sig=0.8, \\\n",
    "                          xc=0.0, yc=0.0, zc=0.1, time=2, res=0.01)"
   ]
  },
  {
   "cell_type": "code",
   "execution_count": null,
   "metadata": {},
   "outputs": [],
   "source": [
    "kinematics.set_kinematics_pose(\"left_arm\" , 2.0,  \\\n",
    "                **{ 'x': 0.40, 'y':  0.50, 'z': 0.80, 'roll': 0.00, 'pitch': 0.00, 'yaw': 0.00 })\n",
    "sleep(4)\n",
    "kinematics.set_kinematics_pose(\"left_arm\" , 2.0,  \\\n",
    "                **{ 'x': 0.40, 'y':  0.10, 'z': 0.80, 'roll': 0.00, 'pitch': 0.00, 'yaw': 0.00 })\n",
    "sleep(4)\n",
    "kinematics.set_kinematics_pose(\"left_arm\" , 2.0,  \\\n",
    "                **{ 'x': 0.40, 'y':  0.50, 'z': 0.80, 'roll': 0.00, 'pitch': 0.00, 'yaw': 0.00 })\n",
    "sleep(4)\n",
    "kinematics.trajectory_gaussian(group=\"left_arm\",  \\\n",
    "                          x=0.40, y=0.10, z=0.80, roll=0.0, pitch=0.0, yaw=0.0, \\\n",
    "                          mu=-2.0, sig=0.5, \\\n",
    "                          xc=-0.1, yc=0.0, zc=0.0, time=2, res=0.01)\n",
    "sleep(1)\n",
    "while kinematics.left_arr == True:\n",
    "    pass\n",
    "sleep(2)\n",
    "kinematics.trajectory_gaussian(group=\"left_arm\",  \\\n",
    "                          x=0.40, y=0.50, z=0.80, roll=0.0, pitch=0.0, yaw=0.0, \\\n",
    "                          mu=-2.0, sig=0.5, \\\n",
    "                          xc=0.1, yc=0.0, zc=0.0, time=2, res=0.01)\n",
    "\n",
    "sleep(1)\n",
    "while kinematics.left_arr == True:\n",
    "    pass\n",
    "sleep(2)\n",
    "kinematics.trajectory_gaussian(group=\"left_arm\",  \\\n",
    "                          x=0.40, y=0.10, z=0.80, roll=0.0, pitch=0.0, yaw=0.0, \\\n",
    "                          mu=-2.0, sig=0.5, \\\n",
    "                          xc=0.0, yc=0.0, zc=-0.1, time=2, res=0.01)\n",
    "sleep(1)\n",
    "while kinematics.left_arr == True:\n",
    "    pass\n",
    "sleep(2)\n",
    "kinematics.trajectory_gaussian(group=\"left_arm\",  \\\n",
    "                          x=0.40, y=0.50, z=0.80, roll=0.0, pitch=0.0, yaw=0.0, \\\n",
    "                          mu=-2.0, sig=0.5, \\\n",
    "                          xc=0.0, yc=0.0, zc=0.1, time=2, res=0.01)"
   ]
  },
  {
   "cell_type": "code",
   "execution_count": null,
   "metadata": {},
   "outputs": [],
   "source": []
  },
  {
   "cell_type": "code",
   "execution_count": null,
   "metadata": {},
   "outputs": [],
   "source": [
    "#!/usr/bin/env python3\n",
    "\n",
    "import numpy as np\n",
    "from scipy.stats import norm\n",
    "import matplotlib.pyplot as plt\n",
    "\n",
    "def plots_(axes_, x_, y_, label_=None, xlabel_=\"\", ylabel_=\"\", title_=\"\"):\n",
    "    axes_.plot(x_, y_, 'o-', label=label_)\n",
    "    axes_.set_xlabel(xlabel_)\n",
    "    axes_.set_ylabel(ylabel_)\n",
    "    axes_.set_title(title_)\n",
    "    axes_.grid()\n",
    "\n",
    "def trajectory_sin(time, res):\n",
    "    h_curve = 10\n",
    "\n",
    "    # fig1, axes = plt.subplots(nrows=3, ncols=1, figsize=(8,8))\n",
    "    fig1, axes = plt.subplots(nrows=3, ncols=1)\n",
    "\n",
    "    # Axes 0\n",
    "    t = np.linspace(0.0, np.pi, num=time/res)\n",
    "    s = np.sin(t) #* 0\n",
    "    plots_(axes[0], t, s, None, \"theta (${\\Theta}$)\", \"sin (${\\Theta}$)\", \"Trajectory Planning - Sinus\")\n",
    "\n",
    "    # Axes1\n",
    "    total_time = np.linspace(0.0, time, num=time/res)\n",
    "    plots_(axes[1], total_time, total_time*0, None, \"time\")\n",
    "\n",
    "    # Axes2\n",
    "    x_dis = np.interp(t, [0, np.pi], [20, 40])\n",
    "    y_dis = np.interp(s, [0, 1], [10, 30])\n",
    "    # y_dis = h_curve * s\n",
    "    plots_(axes[2], x_dis, y_dis, None, \"x distance\", \"y distance\")\n",
    "\n",
    "    # fig1.legend()\n",
    "    fig1.tight_layout()\n",
    "\n",
    "def gaussian(x, mu, sig):\n",
    "    return np.exp( -np.power(x - mu, 2.) / (2 * np.power(sig, 2.)) )\n",
    "\n",
    "def normal_gaussian(x, mu, sig):\n",
    "    return ( 1 / (sig * np.sqrt(2*np.pi)) ) * np.exp( -np.power(x - mu, 2.) / (2 * np.power(sig, 2.)) )\n",
    "\n",
    "def trajectory_gaussian(time, res):\n",
    "    x_values = np.linspace(-5, 5, num=time/res)\n",
    "    # x_values = np.linspace(-5, 5, num=200)\n",
    "    fig2, axes = plt.subplots(nrows=3, ncols=1)\n",
    "\n",
    "    # Axes1\n",
    "    total_time = np.linspace(0.0, time, num=time/res)\n",
    "    plots_(axes[1], total_time, total_time*0, None, \"time\")\n",
    "\n",
    "    # Axes2\n",
    "    # x_dis = np.interp(x_values, [-5, 5], [20, 40])\n",
    "    x_dis = np.interp(x_values, [-5, 5], [20, 40])\n",
    "\n",
    "    for mu, sig in [(0, 1.0), (0, 0.8), (-2, 0.5)]:\n",
    "        label = \"$\\mu$ = {0}, $\\sigma$ = {1}\".format(mu, sig) \n",
    "        # plots_(axes, x_values, gaussian(x_values, mu, sig), label, r'X', r'$\\varphi _{\\mu ,\\sigma ^{2}} = (X)$', \"Trajectory Gaussian\")\n",
    "        # plots_(axes, x_values, normal_gaussian(x_values, mu, sig), label, r'X', r'$\\varphi _{\\mu ,\\sigma ^{2}} = (X)$', \"Trajectory Gaussian\")\n",
    "\n",
    "        # Axes 0\n",
    "        # y_values = normal_gaussian(x_values, mu, sig)\n",
    "        y_values = norm.pdf(x_values, mu, sig)\n",
    "        plots_(axes[0], x_values, y_values, label, r'X', r'$\\varphi _{\\mu ,\\sigma ^{2}} = (X)$', \"Trajectory Gaussian\")\n",
    "\n",
    "        # Axes2\n",
    "        # y_dis = np.interp(y_values, [0, np.max(y_values)], [10, 30])\n",
    "        y_dis = np.interp(y_values, [0, np.max(y_values)], [10, 30])\n",
    "\n",
    "        plots_(axes[2], x_dis, y_dis, None, \"x distance\", \"y distance\")\n",
    "\n",
    "    fig2.legend()\n",
    "\n",
    "def main():\n",
    "    time = 3\n",
    "    res  = 0.1\n",
    "    # trajectory_sin(time, res)\n",
    "    trajectory_gaussian(time, res)\n",
    "\n",
    "    plt.show()\n",
    "    # plt.show(block=False)\n",
    "    # plt.pause(0.1)\n",
    "    # input(\"Press [enter] to close.\")\n",
    "    # plt.close('all')\n",
    "\n",
    "if __name__ == '__main__':\n",
    "    main()"
   ]
  }
 ],
 "metadata": {
  "kernelspec": {
   "display_name": "Python 3",
   "language": "python",
   "name": "python3"
  },
  "language_info": {
   "codemirror_mode": {
    "name": "ipython",
    "version": 3
   },
   "file_extension": ".py",
   "mimetype": "text/x-python",
   "name": "python",
   "nbconvert_exporter": "python",
   "pygments_lexer": "ipython3",
   "version": "3.5.2"
  }
 },
 "nbformat": 4,
 "nbformat_minor": 2
}
